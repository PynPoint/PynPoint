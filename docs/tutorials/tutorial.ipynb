{
 "cells": [
  {
   "cell_type": "markdown",
   "metadata": {},
   "source": [
    "# Tutorial for PynPoint"
   ]
  },
  {
   "cell_type": "markdown",
   "metadata": {},
   "source": [
    "In this tutorial we will process a [SPHERE/ZIMPOL](https://www.eso.org/sci/facilities/paranal/instruments/sphere/inst.html) H-alpha dataset of [HD 142527](https://ui.adsabs.harvard.edu/abs/2019A%26A...622A.156C/abstract), for which we make used of already preprocessed images. This example highlights some of the functionalities of PynPoint but a complete overview of all pipeline modules is [available in the documentation](https://pynpoint.readthedocs.io/en/latest/overview.html)."
   ]
  },
  {
   "cell_type": "markdown",
   "metadata": {},
   "source": [
    "## Getting started"
   ]
  },
  {
   "cell_type": "markdown",
   "metadata": {},
   "source": [
    "We start by importing the require Python modules. "
   ]
  },
  {
   "cell_type": "code",
   "execution_count": 1,
   "metadata": {},
   "outputs": [],
   "source": [
    "import tarfile\n",
    "import configparser\n",
    "import urllib.request\n",
    "\n",
    "import numpy as np\n",
    "import matplotlib.pyplot as plt\n",
    "\n",
    "from matplotlib.colors import LogNorm\n",
    "from matplotlib.patches import Circle"
   ]
  },
  {
   "cell_type": "markdown",
   "metadata": {},
   "source": [
    "And also the `Pypeline` and the pipeline modules that we need."
   ]
  },
  {
   "cell_type": "code",
   "execution_count": 2,
   "metadata": {},
   "outputs": [],
   "source": [
    "from pynpoint import Pypeline, FitsReadingModule, ParangReadingModule, \\\n",
    "                     StarExtractionModule, BadPixelSigmaFilterModule, \\\n",
    "                     StarAlignmentModule, FitCenterModule, ShiftImagesModule, \\\n",
    "                     PSFpreparationModule, PcaPsfSubtractionModule, \\\n",
    "                     FalsePositiveModule, SimplexMinimizationModule, \\\n",
    "                     FakePlanetModule, ContrastCurveModule, \\\n",
    "                     FitsWritingModule, TextWritingModule"
   ]
  },
  {
   "cell_type": "markdown",
   "metadata": {},
   "source": [
    "Next, we will download the preprocessed images and the parallactic angles."
   ]
  },
  {
   "cell_type": "code",
   "execution_count": 3,
   "metadata": {},
   "outputs": [
    {
     "data": {
      "text/plain": [
       "('hd142527_zimpol_h-alpha.tgz', <http.client.HTTPMessage at 0x13c335278>)"
      ]
     },
     "execution_count": 3,
     "metadata": {},
     "output_type": "execute_result"
    }
   ],
   "source": [
    "urllib.request.urlretrieve('https://people.phys.ethz.ch/~stolkert/pynpoint/hd142527_zimpol_h-alpha.tgz',\n",
    "                           'hd142527_zimpol_h-alpha.tgz')"
   ]
  },
  {
   "cell_type": "markdown",
   "metadata": {},
   "source": [
    "And we will unpack the data in a folder called `input`."
   ]
  },
  {
   "cell_type": "code",
   "execution_count": 4,
   "metadata": {},
   "outputs": [],
   "source": [
    "tar = tarfile.open('hd142527_zimpol_h-alpha.tgz')\n",
    "tar.extractall(path='input')"
   ]
  },
  {
   "cell_type": "markdown",
   "metadata": {},
   "source": [
    "## Creating the configuration file"
   ]
  },
  {
   "cell_type": "markdown",
   "metadata": {},
   "source": [
    "PynPoint requires a configuration file which contains the global settings and the FITS header keywords that have to be imported. The text file should be called `PynPoint_config.ini` and several examples are [available here](https://pynpoint.readthedocs.io/en/latest/configuration.html). In this case, we don't need any of the header data."
   ]
  },
  {
   "cell_type": "code",
   "execution_count": 5,
   "metadata": {},
   "outputs": [],
   "source": [
    "config = configparser.ConfigParser()\n",
    "config.add_section('header')\n",
    "config.add_section('settings')\n",
    "config['settings']['PIXSCALE'] = '0.0036'\n",
    "config['settings']['MEMORY'] = '100'\n",
    "config['settings']['CPU'] = '1'\n",
    "\n",
    "with open('PynPoint_config.ini', 'w') as configfile:\n",
    "    config.write(configfile)"
   ]
  },
  {
   "cell_type": "markdown",
   "metadata": {},
   "source": [
    "## Initiating the Pypeline"
   ]
  },
  {
   "cell_type": "markdown",
   "metadata": {},
   "source": [
    "We can now initiate the `Pypeline` by setting the working, input, and output folders."
   ]
  },
  {
   "cell_type": "code",
   "execution_count": 6,
   "metadata": {},
   "outputs": [
    {
     "name": "stdout",
     "output_type": "stream",
     "text": [
      "===============\n",
      "PynPoint v0.8.3\n",
      "===============\n",
      "\n",
      "Database: ./PynPoint_database.hdf5\n",
      "Configuration: ./PynPoint_config.ini\n",
      "\n",
      "Number of CPUs: 1\n",
      "Number of threads: not set\n"
     ]
    }
   ],
   "source": [
    "# create an instance of the Pypeline\n",
    "\n",
    "pipeline = Pypeline(working_place_in='./',\n",
    "                    input_place_in='input/',\n",
    "                    output_place_in='./')"
   ]
  },
  {
   "cell_type": "markdown",
   "metadata": {},
   "source": [
    "## Importing the images and parallactic angles"
   ]
  },
  {
   "cell_type": "code",
   "execution_count": 7,
   "metadata": {},
   "outputs": [
    {
     "name": "stdout",
     "output_type": "stream",
     "text": [
      "\n",
      "-----------------\n",
      "FitsReadingModule\n",
      "-----------------\n",
      "\n",
      "Module name: read\n",
      "Reading FITS files... [DONE]                      \n",
      "Output ports: zimpol (70, 1024, 1024), fits_header/cal_OBS091_0235_cam2.fits (868,), fits_header/cal_OBS091_0237_cam2.fits (868,), fits_header/cal_OBS091_0239_cam2.fits (868,), fits_header/cal_OBS091_0241_cam2.fits (868,), fits_header/cal_OBS091_0243_cam2.fits (868,), fits_header/cal_OBS091_0245_cam2.fits (868,), fits_header/cal_OBS091_0247_cam2.fits (868,)\n"
     ]
    }
   ],
   "source": [
    "# import the preprocessed ZIMPOL data\n",
    "\n",
    "module = FitsReadingModule(name_in='read',\n",
    "                           input_dir=None,\n",
    "                           image_tag='zimpol',\n",
    "                           overwrite=True,\n",
    "                           check=False,\n",
    "                           filenames=None,\n",
    "                           ifs_data=False)\n",
    "\n",
    "pipeline.add_module(module)\n",
    "pipeline.run_module('read')"
   ]
  },
  {
   "cell_type": "code",
   "execution_count": 8,
   "metadata": {},
   "outputs": [
    {
     "data": {
      "text/plain": [
       "(70, 1024, 1024)"
      ]
     },
     "execution_count": 8,
     "metadata": {},
     "output_type": "execute_result"
    }
   ],
   "source": [
    "pipeline.get_shape('zimpol')"
   ]
  },
  {
   "cell_type": "code",
   "execution_count": 9,
   "metadata": {},
   "outputs": [
    {
     "name": "stdout",
     "output_type": "stream",
     "text": [
      "\n",
      "-------------------\n",
      "ParangReadingModule\n",
      "-------------------\n",
      "\n",
      "Module name: parang\n",
      "Reading parallactic angles... [DONE]\n",
      "Number of angles: 70\n",
      "Rotation range: -14.31 - 34.36 deg\n",
      "Output port: zimpol (70, 1024, 1024)\n"
     ]
    }
   ],
   "source": [
    "# import the parallactic angles\n",
    "\n",
    "module = ParangReadingModule(name_in='parang',\n",
    "                             data_tag='zimpol',\n",
    "                             file_name='parang.dat',\n",
    "                             input_dir=None,\n",
    "                             overwrite=True)\n",
    "\n",
    "pipeline.add_module(module)\n",
    "pipeline.run_module('parang')"
   ]
  },
  {
   "cell_type": "code",
   "execution_count": 10,
   "metadata": {},
   "outputs": [
    {
     "name": "stdout",
     "output_type": "stream",
     "text": [
      "[-14.3082  -13.9496  -13.5902  -13.23    -12.8691  -12.5074  -12.145\n",
      " -11.782   -11.4182  -11.0538   -6.43366  -6.0622   -5.69037  -5.3182\n",
      "  -4.9457   -4.57291  -4.19983  -3.8265   -3.45294  -3.07917   1.61837\n",
      "   1.99275   2.36701   2.74112   3.11507   3.48882   3.86237   4.23567\n",
      "   4.60872   4.98149   9.6373   10.0041   10.3703   10.736    11.101\n",
      "  11.4653   11.829    12.192    12.5543   12.9158   17.3717   17.7218\n",
      "  18.0711   18.4193   18.7666   19.1129   19.4581   19.8024   20.1456\n",
      "  20.4878   24.9167   25.243    25.568    25.8919   26.2145   26.536\n",
      "  26.8563   27.1753   27.4931   27.8097   31.7057   32.0052   32.3035\n",
      "  32.6005   32.8962   33.1906   33.4838   33.7757   34.0663   34.3556 ]\n"
     ]
    }
   ],
   "source": [
    "parang = pipeline.get_attribute('zimpol', 'PARANG', static=False)\n",
    "print(parang)"
   ]
  },
  {
   "cell_type": "markdown",
   "metadata": {},
   "source": [
    "## Bad pixel correction"
   ]
  },
  {
   "cell_type": "code",
   "execution_count": 11,
   "metadata": {},
   "outputs": [
    {
     "name": "stdout",
     "output_type": "stream",
     "text": [
      "\n",
      "-------------------------\n",
      "BadPixelSigmaFilterModule\n",
      "-------------------------\n",
      "\n",
      "Module name: badpixel\n",
      "Input port: crop (70, 57, 57)\n",
      "Deleting data and attributes: bad\n",
      "Bad pixel sigma filter... [DONE]                      \n",
      "Output port: bad (70, 57, 57)\n"
     ]
    }
   ],
   "source": [
    "# correct bad pixels\n",
    "\n",
    "module = BadPixelSigmaFilterModule(name_in='badpixel',\n",
    "                                   image_in_tag='crop',\n",
    "                                   image_out_tag='bad',\n",
    "                                   map_out_tag=None,\n",
    "                                   box=9,\n",
    "                                   sigma=5.,\n",
    "                                   iterate=3)\n",
    "\n",
    "pipeline.add_module(module)\n",
    "pipeline.run_module('badpixel')"
   ]
  },
  {
   "cell_type": "markdown",
   "metadata": {},
   "source": [
    "## Image centering"
   ]
  },
  {
   "cell_type": "code",
   "execution_count": 12,
   "metadata": {},
   "outputs": [
    {
     "name": "stdout",
     "output_type": "stream",
     "text": [
      "\n",
      "--------------------\n",
      "StarExtractionModule\n",
      "--------------------\n",
      "\n",
      "Module name: extract\n",
      "Input port: zimpol (70, 1024, 1024)\n",
      "Deleting data and attributes: crop\n",
      "Extracting stellar position... [DONE]                      \n",
      "Output port: crop (70, 57, 57)\n"
     ]
    }
   ],
   "source": [
    "# extract the stellar position with pixel precision\n",
    "\n",
    "module = StarExtractionModule(name_in='extract',\n",
    "                              image_in_tag='zimpol',\n",
    "                              image_out_tag='crop',\n",
    "                              index_out_tag=None,\n",
    "                              image_size=0.2,\n",
    "                              fwhm_star=0.03,\n",
    "                              position=(476, 436, 0.1))\n",
    "\n",
    "pipeline.add_module(module)\n",
    "pipeline.run_module('extract')"
   ]
  },
  {
   "cell_type": "code",
   "execution_count": 13,
   "metadata": {},
   "outputs": [
    {
     "data": {
      "text/plain": [
       "<matplotlib.image.AxesImage at 0x13cbec8d0>"
      ]
     },
     "execution_count": 13,
     "metadata": {},
     "output_type": "execute_result"
    },
    {
     "data": {
      "image/png": "[encoded data removed]",
      "text/plain": [
       "<Figure size 432x288 with 1 Axes>"
      ]
     },
     "metadata": {
      "needs_background": "light"
     },
     "output_type": "display_data"
    }
   ],
   "source": [
    "data = pipeline.get_data('crop')\n",
    "plt.imshow(data[0, ], origin='lower')"
   ]
  },
  {
   "cell_type": "code",
   "execution_count": 14,
   "metadata": {},
   "outputs": [
    {
     "name": "stdout",
     "output_type": "stream",
     "text": [
      "\n",
      "-------------------\n",
      "StarAlignmentModule\n",
      "-------------------\n",
      "\n",
      "Module name: align\n",
      "Input port: bad (70, 57, 57)\n",
      "Deleting data and attributes: aligned\n",
      "Aligning images... [DONE]                      \n",
      "Output port: aligned (70, 57, 57)\n"
     ]
    }
   ],
   "source": [
    "# relative alignment of the images\n",
    "\n",
    "module = StarAlignmentModule(name_in='align',\n",
    "                             image_in_tag='bad',\n",
    "                             ref_image_in_tag=None,\n",
    "                             image_out_tag='aligned',\n",
    "                             interpolation='spline',\n",
    "                             accuracy=10,\n",
    "                             resize=None,\n",
    "                             num_references=10,\n",
    "                             subframe=0.1)\n",
    "\n",
    "pipeline.add_module(module)\n",
    "pipeline.run_module('align')"
   ]
  },
  {
   "cell_type": "code",
   "execution_count": 15,
   "metadata": {},
   "outputs": [
    {
     "name": "stdout",
     "output_type": "stream",
     "text": [
      "\n",
      "---------------\n",
      "FitCenterModule\n",
      "---------------\n",
      "\n",
      "Module name: center\n",
      "Input port: aligned (70, 57, 57)\n",
      "Deleting data and attributes: fit\n",
      "Fitting the stellar PSF... [DONE]\n",
      "Output port: fit (70, 16)\n"
     ]
    }
   ],
   "source": [
    "# fit the PSF with a 2D Moffat function\n",
    "\n",
    "module = FitCenterModule(name_in='center',\n",
    "                         image_in_tag='aligned',\n",
    "                         fit_out_tag='fit',\n",
    "                         mask_out_tag=None,\n",
    "                         method='mean',\n",
    "                         radius=0.1,\n",
    "                         sign='positive',\n",
    "                         model='moffat',\n",
    "                         filter_size=None,\n",
    "                         guess=(0., 0., 10., 10., 10000., 0., 0., 1.))\n",
    "\n",
    "pipeline.add_module(module)\n",
    "pipeline.run_module('center')"
   ]
  },
  {
   "cell_type": "code",
   "execution_count": 16,
   "metadata": {},
   "outputs": [
    {
     "name": "stdout",
     "output_type": "stream",
     "text": [
      "\n",
      "-----------------\n",
      "ShiftImagesModule\n",
      "-----------------\n",
      "\n",
      "Module name: shift\n",
      "Input ports: aligned (70, 57, 57), fit (70, 16)\n",
      "Deleting data and attributes: centered\n",
      "Shifting the images... [DONE]                      \n",
      "Output port: centered (70, 57, 57)\n"
     ]
    }
   ],
   "source": [
    "# center the images with subpixel precision\n",
    "\n",
    "module = ShiftImagesModule(name_in='shift',\n",
    "                           image_in_tag='aligned',\n",
    "                           image_out_tag='centered',\n",
    "                           shift_xy='fit',\n",
    "                           interpolation='spline')\n",
    "\n",
    "pipeline.add_module(module)\n",
    "pipeline.run_module('shift')"
   ]
  },
  {
   "cell_type": "code",
   "execution_count": 17,
   "metadata": {},
   "outputs": [
    {
     "data": {
      "text/plain": [
       "(17.0, 40.0)"
      ]
     },
     "execution_count": 17,
     "metadata": {},
     "output_type": "execute_result"
    },
    {
     "data": {
      "image/png": "[encoded data removed]",
      "text/plain": [
       "<Figure size 432x288 with 1 Axes>"
      ]
     },
     "metadata": {
      "needs_background": "light"
     },
     "output_type": "display_data"
    }
   ],
   "source": [
    "data = pipeline.get_data('centered')\n",
    "plt.imshow(data[0, ], origin='lower')\n",
    "plt.xlim(17, 40)\n",
    "plt.ylim(17, 40)"
   ]
  },
  {
   "cell_type": "markdown",
   "metadata": {},
   "source": [
    "## Adding a mask"
   ]
  },
  {
   "cell_type": "code",
   "execution_count": 18,
   "metadata": {},
   "outputs": [
    {
     "name": "stdout",
     "output_type": "stream",
     "text": [
      "\n",
      "--------------------\n",
      "PSFpreparationModule\n",
      "--------------------\n",
      "\n",
      "Module name: prep1\n",
      "Input port: centered (70, 57, 57)\n",
      "Deleting data and attributes: prep\n",
      "Preparing images for PSF subtraction... [DONE]                      \n",
      "Output port: prep (70, 57, 57)\n"
     ]
    }
   ],
   "source": [
    "# mask the inner and outer regions before the PSF subtraction\n",
    "\n",
    "module = PSFpreparationModule(name_in='prep1',\n",
    "                              image_in_tag='centered',\n",
    "                              image_out_tag='prep',\n",
    "                              mask_out_tag=None,\n",
    "                              norm=False,\n",
    "                              cent_size=0.02,\n",
    "                              edge_size=0.2)\n",
    "\n",
    "pipeline.add_module(module)\n",
    "pipeline.run_module('prep1')"
   ]
  },
  {
   "cell_type": "code",
   "execution_count": 19,
   "metadata": {},
   "outputs": [
    {
     "data": {
      "text/plain": [
       "<matplotlib.image.AxesImage at 0x13e709c88>"
      ]
     },
     "execution_count": 19,
     "metadata": {},
     "output_type": "execute_result"
    },
    {
     "data": {
      "image/png": "[encoded data removed]",
      "text/plain": [
       "<Figure size 432x288 with 1 Axes>"
      ]
     },
     "metadata": {
      "needs_background": "light"
     },
     "output_type": "display_data"
    }
   ],
   "source": [
    "data = pipeline.get_data('prep')\n",
    "max_flux = np.amax(data[0, ])\n",
    "plt.imshow(data[0, ], origin='lower', norm=LogNorm(vmin=0.01*max_flux, vmax=max_flux))"
   ]
  },
  {
   "cell_type": "code",
   "execution_count": 20,
   "metadata": {},
   "outputs": [
    {
     "name": "stdout",
     "output_type": "stream",
     "text": [
      "\n",
      "--------------------\n",
      "PSFpreparationModule\n",
      "--------------------\n",
      "\n",
      "Module name: prep2\n",
      "Input port: centered (70, 57, 57)\n",
      "Deleting data and attributes: psf\n",
      "Preparing images for PSF subtraction... [DONE]                      \n",
      "Output port: psf (70, 57, 57)\n"
     ]
    }
   ],
   "source": [
    "# create a PSF template for the flux calibration and detection limits\n",
    "\n",
    "module = PSFpreparationModule(name_in='prep2',\n",
    "                              image_in_tag='centered',\n",
    "                              image_out_tag='psf',\n",
    "                              mask_out_tag=None,\n",
    "                              norm=False,\n",
    "                              cent_size=None,\n",
    "                              edge_size=0.07)\n",
    "\n",
    "pipeline.add_module(module)\n",
    "pipeline.run_module('prep2')"
   ]
  },
  {
   "cell_type": "code",
   "execution_count": 21,
   "metadata": {},
   "outputs": [
    {
     "data": {
      "text/plain": [
       "<matplotlib.image.AxesImage at 0x13dcd07b8>"
      ]
     },
     "execution_count": 21,
     "metadata": {},
     "output_type": "execute_result"
    },
    {
     "data": {
      "image/png": "[encoded data removed]",
      "text/plain": [
       "<Figure size 432x288 with 1 Axes>"
      ]
     },
     "metadata": {
      "needs_background": "light"
     },
     "output_type": "display_data"
    }
   ],
   "source": [
    "data = pipeline.get_data('psf')\n",
    "max_flux = np.amax(data[0, ])\n",
    "plt.imshow(data[0, ], origin='lower', norm=LogNorm(vmin=0.01*max_flux, vmax=max_flux))"
   ]
  },
  {
   "cell_type": "markdown",
   "metadata": {},
   "source": [
    "## PSF subtraction"
   ]
  },
  {
   "cell_type": "code",
   "execution_count": 22,
   "metadata": {},
   "outputs": [
    {
     "name": "stdout",
     "output_type": "stream",
     "text": [
      "\n",
      "-----------------------\n",
      "PcaPsfSubtractionModule\n",
      "-----------------------\n",
      "\n",
      "Module name: pca\n",
      "Input port: prep (70, 57, 57)\n",
      "Deleting data and attributes: pca_mean\n",
      "Deleting data and attributes: pca_median\n",
      "Deleting data and attributes: pca_basis\n",
      "Constructing PSF model... [DONE]\n",
      "Creating residuals... [DONE]                      \n",
      "Output ports: pca_mean (30, 57, 57), pca_median (30, 57, 57), pca_basis (30, 57, 57)\n"
     ]
    }
   ],
   "source": [
    "# PSF subtraction with full-frame PCA\n",
    "\n",
    "module = PcaPsfSubtractionModule(name_in='pca',\n",
    "                                 images_in_tag='prep',\n",
    "                                 reference_in_tag='prep',\n",
    "                                 res_mean_tag='pca_mean',\n",
    "                                 res_median_tag='pca_median',\n",
    "                                 basis_out_tag='pca_basis',\n",
    "                                 pca_numbers=range(1, 31),\n",
    "                                 extra_rot=-133.,\n",
    "                                 subtract_mean=True)\n",
    "\n",
    "pipeline.add_module(module)\n",
    "pipeline.run_module('pca')"
   ]
  },
  {
   "cell_type": "code",
   "execution_count": 23,
   "metadata": {},
   "outputs": [
    {
     "data": {
      "text/plain": [
       "<matplotlib.image.AxesImage at 0x13ddebf60>"
      ]
     },
     "execution_count": 23,
     "metadata": {},
     "output_type": "execute_result"
    },
    {
     "data": {
      "image/png": "[encoded data removed]",
      "text/plain": [
       "<Figure size 432x288 with 1 Axes>"
      ]
     },
     "metadata": {
      "needs_background": "light"
     },
     "output_type": "display_data"
    }
   ],
   "source": [
    "data = pipeline.get_data('pca_median')\n",
    "plt.imshow(data[14, ], origin='lower')"
   ]
  },
  {
   "cell_type": "code",
   "execution_count": 24,
   "metadata": {},
   "outputs": [
    {
     "data": {
      "text/plain": [
       "<matplotlib.image.AxesImage at 0x13e5d8668>"
      ]
     },
     "execution_count": 24,
     "metadata": {},
     "output_type": "execute_result"
    },
    {
     "data": {
      "image/png": "[encoded data removed]",
      "text/plain": [
       "<Figure size 432x288 with 1 Axes>"
      ]
     },
     "metadata": {
      "needs_background": "light"
     },
     "output_type": "display_data"
    }
   ],
   "source": [
    "data = pipeline.get_data('pca_basis')\n",
    "plt.imshow(data[1, ], origin='lower')"
   ]
  },
  {
   "cell_type": "code",
   "execution_count": 25,
   "metadata": {},
   "outputs": [
    {
     "data": {
      "text/plain": [
       "<matplotlib.patches.Circle at 0x13e6b7588>"
      ]
     },
     "execution_count": 25,
     "metadata": {},
     "output_type": "execute_result"
    },
    {
     "data": {
      "image/png": "[encoded data removed]",
      "text/plain": [
       "<Figure size 432x288 with 1 Axes>"
      ]
     },
     "metadata": {
      "needs_background": "light"
     },
     "output_type": "display_data"
    }
   ],
   "source": [
    "data = pipeline.get_data('pca_median')\n",
    "\n",
    "fig, ax = plt.subplots()\n",
    "\n",
    "ax.imshow(data[14, ], origin='lower')\n",
    "\n",
    "aperture = Circle((11, 26), radius=5, fill=False, ls=':', lw=3., color='white')\n",
    "ax.add_artist(aperture)"
   ]
  },
  {
   "cell_type": "markdown",
   "metadata": {},
   "source": [
    "## Signal-to-noise"
   ]
  },
  {
   "cell_type": "code",
   "execution_count": 26,
   "metadata": {},
   "outputs": [
    {
     "name": "stdout",
     "output_type": "stream",
     "text": [
      "\n",
      "-------------------\n",
      "FalsePositiveModule\n",
      "-------------------\n",
      "\n",
      "Module name: snr\n",
      "Input port: pca_median (30, 57, 57)\n",
      "Deleting data and attributes: snr\n",
      "Calculating S/N and FPF... [DONE]                      \n",
      "Output port: snr (30, 6)\n"
     ]
    }
   ],
   "source": [
    "# compute the S/N and FPF as function of principal components\n",
    "\n",
    "module = FalsePositiveModule(name_in='snr',\n",
    "                             image_in_tag='pca_median',\n",
    "                             snr_out_tag='snr',\n",
    "                             position=(11., 26.),\n",
    "                             aperture=5.*0.0036,\n",
    "                             ignore=True,\n",
    "                             optimize=False)\n",
    "\n",
    "pipeline.add_module(module)\n",
    "pipeline.run_module('snr')"
   ]
  },
  {
   "cell_type": "code",
   "execution_count": 27,
   "metadata": {},
   "outputs": [
    {
     "data": {
      "text/plain": [
       "Text(0, 0.5, 'Signal-to-noise ratio')"
      ]
     },
     "execution_count": 27,
     "metadata": {},
     "output_type": "execute_result"
    },
    {
     "data": {
      "image/png": "[encoded data removed]",
      "text/plain": [
       "<Figure size 432x288 with 1 Axes>"
      ]
     },
     "metadata": {
      "needs_background": "light"
     },
     "output_type": "display_data"
    }
   ],
   "source": [
    "data = pipeline.get_data('snr')\n",
    "plt.plot(range(1, 31), data[:, 4])\n",
    "plt.xlabel('Principal components')\n",
    "plt.ylabel('Signal-to-noise ratio')"
   ]
  },
  {
   "cell_type": "markdown",
   "metadata": {},
   "source": [
    "## Contrast and position"
   ]
  },
  {
   "cell_type": "code",
   "execution_count": 28,
   "metadata": {},
   "outputs": [
    {
     "name": "stdout",
     "output_type": "stream",
     "text": [
      "\n",
      "-------------------------\n",
      "SimplexMinimizationModule\n",
      "-------------------------\n",
      "\n",
      "Module name: simplex\n",
      "Input ports: centered (70, 57, 57), psf (70, 57, 57)\n",
      "Deleting data and attributes: simplex001\n",
      "Deleting data and attributes: fluxpos001\n",
      "Deleting data and attributes: simplex002\n",
      "Deleting data and attributes: fluxpos002\n",
      "Deleting data and attributes: simplex003\n",
      "Deleting data and attributes: fluxpos003\n",
      "Deleting data and attributes: simplex004\n",
      "Deleting data and attributes: fluxpos004\n",
      "Deleting data and attributes: simplex005\n",
      "Deleting data and attributes: fluxpos005\n",
      "Deleting data and attributes: simplex006\n",
      "Deleting data and attributes: fluxpos006\n",
      "Deleting data and attributes: simplex007\n",
      "Deleting data and attributes: fluxpos007\n",
      "Deleting data and attributes: simplex008\n",
      "Deleting data and attributes: fluxpos008\n",
      "Deleting data and attributes: simplex009\n",
      "Deleting data and attributes: fluxpos009\n",
      "Deleting data and attributes: simplex010\n",
      "Deleting data and attributes: fluxpos010\n",
      "Simplex minimization... 10 PC - chi^2 = 3.56858381E+02 [DONE]\n",
      "Output ports: simplex001 (75, 57, 57), fluxpos001 (75, 6), simplex002 (69, 57, 57), fluxpos002 (69, 6), simplex003 (68, 57, 57), fluxpos003 (68, 6), simplex004 (61, 57, 57), fluxpos004 (61, 6), simplex005 (73, 57, 57), fluxpos005 (73, 6), simplex006 (85, 57, 57), fluxpos006 (85, 6), simplex007 (64, 57, 57), fluxpos007 (64, 6), simplex008 (59, 57, 57), fluxpos008 (59, 6), simplex009 (59, 57, 57), fluxpos009 (59, 6), simplex010 (69, 57, 57), fluxpos010 (69, 6)\n"
     ]
    }
   ],
   "source": [
    "# determine the relative photometry and astrometry of the companion\n",
    "\n",
    "module = SimplexMinimizationModule(name_in='simplex',\n",
    "                                   image_in_tag='centered',\n",
    "                                   psf_in_tag='psf',\n",
    "                                   res_out_tag='simplex',\n",
    "                                   flux_position_tag='fluxpos',\n",
    "                                   position=(11, 26),\n",
    "                                   magnitude=6.,\n",
    "                                   psf_scaling=-1.,\n",
    "                                   merit='gaussian',\n",
    "                                   aperture=10.*0.0036,\n",
    "                                   sigma=0.,\n",
    "                                   tolerance=0.01,\n",
    "                                   pca_number=range(1, 11),\n",
    "                                   cent_size=0.02,\n",
    "                                   edge_size=0.2,\n",
    "                                   extra_rot=-133.,\n",
    "                                   residuals='median',\n",
    "                                   reference_in_tag=None,\n",
    "                                   offset=None)\n",
    "\n",
    "pipeline.add_module(module)\n",
    "pipeline.run_module('simplex')"
   ]
  },
  {
   "cell_type": "code",
   "execution_count": 29,
   "metadata": {},
   "outputs": [
    {
     "data": {
      "text/plain": [
       "<matplotlib.image.AxesImage at 0x10d25e6a0>"
      ]
     },
     "execution_count": 29,
     "metadata": {},
     "output_type": "execute_result"
    },
    {
     "data": {
      "image/png": "[encoded data removed]",
      "text/plain": [
       "<Figure size 432x288 with 1 Axes>"
      ]
     },
     "metadata": {
      "needs_background": "light"
     },
     "output_type": "display_data"
    }
   ],
   "source": [
    "data = pipeline.get_data('simplex010')\n",
    "plt.imshow(data[-1, ], origin='lower')"
   ]
  },
  {
   "cell_type": "code",
   "execution_count": 30,
   "metadata": {},
   "outputs": [
    {
     "data": {
      "text/plain": [
       "Text(0, 0.5, 'Contrast (mag)')"
      ]
     },
     "execution_count": 30,
     "metadata": {},
     "output_type": "execute_result"
    },
    {
     "data": {
      "image/png": "[encoded data removed]",
      "text/plain": [
       "<Figure size 576x576 with 3 Axes>"
      ]
     },
     "metadata": {
      "needs_background": "light"
     },
     "output_type": "display_data"
    }
   ],
   "source": [
    "fig = plt.figure(figsize=(8, 8))\n",
    "ax1 = fig.add_subplot(3, 1, 1)\n",
    "ax2 = fig.add_subplot(3, 1, 2)\n",
    "ax3 = fig.add_subplot(3, 1, 3)\n",
    "\n",
    "for i in range(1, 11):\n",
    "    data = pipeline.get_data(f'fluxpos{i:03d}')\n",
    "    ax1.scatter(i, data[-1, 2], color='black')\n",
    "    ax2.scatter(i, data[-1, 3], color='black')\n",
    "    ax3.scatter(i, data[-1, 4], color='black')\n",
    "\n",
    "ax3.set_xlabel('Principal components')\n",
    "ax1.set_ylabel('Separation (arcsec)')\n",
    "ax2.set_ylabel('Position angle (deg)')\n",
    "ax3.set_ylabel('Contrast (mag)')"
   ]
  },
  {
   "cell_type": "markdown",
   "metadata": {},
   "source": [
    "## Detection limits"
   ]
  },
  {
   "cell_type": "code",
   "execution_count": 31,
   "metadata": {},
   "outputs": [
    {
     "name": "stdout",
     "output_type": "stream",
     "text": [
      "\n",
      "----------------\n",
      "FakePlanetModule\n",
      "----------------\n",
      "\n",
      "Module name: fake\n",
      "Input ports: centered (70, 57, 57), psf (70, 57, 57)\n",
      "Deleting data and attributes: removed\n",
      "Injecting artificial planets... [DONE]                      \n",
      "Output port: removed (70, 57, 57)\n"
     ]
    }
   ],
   "source": [
    "# remove the companion from the dataset\n",
    "\n",
    "module = FakePlanetModule(position=(0.061, 97.3-133.),\n",
    "                          magnitude=6.1,\n",
    "                          psf_scaling=-1.,\n",
    "                          interpolation='spline',\n",
    "                          name_in='fake',\n",
    "                          image_in_tag='centered',\n",
    "                          psf_in_tag='psf',\n",
    "                          image_out_tag='removed')\n",
    "\n",
    "pipeline.add_module(module)\n",
    "pipeline.run_module('fake')"
   ]
  },
  {
   "cell_type": "code",
   "execution_count": 32,
   "metadata": {},
   "outputs": [
    {
     "name": "stdout",
     "output_type": "stream",
     "text": [
      "\n",
      "-------------------\n",
      "ContrastCurveModule\n",
      "-------------------\n",
      "\n",
      "Module name: limits\n",
      "Input ports: removed (70, 57, 57), psf (70, 57, 57)\n",
      "Deleting data and attributes: limits\n",
      "Calculating detection limits... [DONE]                \n",
      "Output port: limits (4, 4)\n"
     ]
    }
   ],
   "source": [
    "# estimate detection limits\n",
    "\n",
    "module = ContrastCurveModule(name_in='limits',\n",
    "                             image_in_tag='removed',\n",
    "                             psf_in_tag='psf',\n",
    "                             contrast_out_tag='limits',\n",
    "                             separation=(0.05, 5., 0.01),\n",
    "                             angle=(0., 360., 60.),\n",
    "                             threshold=('sigma', 5.),\n",
    "                             psf_scaling=1.,\n",
    "                             aperture=0.02,\n",
    "                             pca_number=10,\n",
    "                             cent_size=0.02,\n",
    "                             edge_size=2.,\n",
    "                             extra_rot=-133.,\n",
    "                             residuals='median')\n",
    "\n",
    "pipeline.add_module(module)\n",
    "pipeline.run_module('limits')"
   ]
  },
  {
   "cell_type": "code",
   "execution_count": 33,
   "metadata": {},
   "outputs": [
    {
     "name": "stdout",
     "output_type": "stream",
     "text": [
      "\n",
      "-----------------\n",
      "FitsWritingModule\n",
      "-----------------\n",
      "\n",
      "Module name: write1\n",
      "Input port: centered (70, 57, 57)\n",
      "Writing FITS file... [DONE]\n"
     ]
    }
   ],
   "source": [
    "# write the centered images to a FITS file\n",
    "\n",
    "module = FitsWritingModule(name_in='write1',\n",
    "                           file_name='centered.fits',\n",
    "                           output_dir=None,\n",
    "                           data_tag='centered',\n",
    "                           data_range=None)\n",
    "\n",
    "pipeline.add_module(module)\n",
    "pipeline.run_module('write1')"
   ]
  },
  {
   "cell_type": "code",
   "execution_count": 34,
   "metadata": {},
   "outputs": [
    {
     "name": "stdout",
     "output_type": "stream",
     "text": [
      "\n",
      "-----------------\n",
      "FitsWritingModule\n",
      "-----------------\n",
      "\n",
      "Module name: write2\n",
      "Input port: pca_median (30, 57, 57)\n",
      "Writing FITS file... [DONE]\n"
     ]
    }
   ],
   "source": [
    "# write the median-combined residuals to a FITS file\n",
    "\n",
    "module = FitsWritingModule(name_in='write2',\n",
    "                           file_name='pca_median.fits',\n",
    "                           output_dir=None,\n",
    "                           data_tag='pca_median',\n",
    "                           data_range=None)\n",
    "\n",
    "pipeline.add_module(module)\n",
    "pipeline.run_module('write2')"
   ]
  },
  {
   "cell_type": "code",
   "execution_count": 35,
   "metadata": {},
   "outputs": [
    {
     "name": "stdout",
     "output_type": "stream",
     "text": [
      "\n",
      "-----------------\n",
      "FitsWritingModule\n",
      "-----------------\n",
      "\n",
      "Module name: write3\n",
      "Input port: simplex (61, 57, 57)\n",
      "Writing FITS file... [DONE]\n"
     ]
    }
   ],
   "source": [
    "# write the minimization results of the PSF subtraction to a FITS file\n",
    "\n",
    "module = FitsWritingModule(name_in='write3',\n",
    "                           file_name='simplex.fits',\n",
    "                           output_dir=None,\n",
    "                           data_tag='simplex',\n",
    "                           data_range=None)\n",
    "\n",
    "pipeline.add_module(module)\n",
    "pipeline.run_module('write3')"
   ]
  },
  {
   "cell_type": "code",
   "execution_count": 36,
   "metadata": {},
   "outputs": [
    {
     "name": "stdout",
     "output_type": "stream",
     "text": [
      "\n",
      "-----------------\n",
      "TextWritingModule\n",
      "-----------------\n",
      "\n",
      "Module name: write4\n",
      "Input port: limits (4, 4)\n",
      "Writing text file... [DONE]\n"
     ]
    }
   ],
   "source": [
    "# write the detection limits to a text file\n",
    "\n",
    "module = TextWritingModule(name_in='write4',\n",
    "                           file_name='limits.dat',\n",
    "                           output_dir=None,\n",
    "                           data_tag='limits',\n",
    "                           header='Separation [arcsec] - Contrast [mag] - Variance [mag] - FPF')\n",
    "\n",
    "pipeline.add_module(module)\n",
    "pipeline.run_module('write4')"
   ]
  }
 ],
 "metadata": {
  "kernelspec": {
   "display_name": "Python 3",
   "language": "python",
   "name": "python3"
  },
  "language_info": {
   "codemirror_mode": {
    "name": "ipython",
    "version": 3
   },
   "file_extension": ".py",
   "mimetype": "text/x-python",
   "name": "python",
   "nbconvert_exporter": "python",
   "pygments_lexer": "ipython3",
   "version": "3.6.10"
  }
 },
 "nbformat": 4,
 "nbformat_minor": 4
}
