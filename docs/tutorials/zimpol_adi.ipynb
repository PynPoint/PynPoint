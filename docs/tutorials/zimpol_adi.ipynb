{
 "cells": [
  {
   "cell_type": "markdown",
   "metadata": {},
   "source": [
    "# Non-coronagraphic angular differential imaging"
   ]
  },
  {
   "cell_type": "markdown",
   "metadata": {},
   "source": [
    "In this tutorial, we will process and analyze an archival [SPHERE/ZIMPOL](https://www.eso.org/sci/facilities/paranal/instruments/sphere/inst.html) dataset of [HD 142527](https://ui.adsabs.harvard.edu/abs/2019A%26A...622A.156C/abstract) that was obtained with the narrowband H$\\alpha$ filter (*N_Ha*) and without coronagraph. A few ZIMPOL specific preprocessing steps were already done so we start the processing of the data with the bad pixel cleaning and image registration. There are pipeline modules available for dual-band simultaneous differential imaging (i.e. [SDIpreparationModule](https://pynpoint.readthedocs.io/en/latest/pynpoint.processing.html#pynpoint.processing.psfpreparation.SDIpreparationModule) and [SubtractImagesModule](https://pynpoint.readthedocs.io/en/latest/pynpoint.processing.html#pynpoint.processing.basic.SubtractImagesModule)) but for simplicity we only use the *N_Ha* data in this tutorial in combination with angular differential imaging."
   ]
  },
  {
   "cell_type": "markdown",
   "metadata": {},
   "source": [
    "## Getting started"
   ]
  },
  {
   "cell_type": "markdown",
   "metadata": {},
   "source": [
    "Let's start by importing the required Python modules. "
   ]
  },
  {
   "cell_type": "code",
   "execution_count": 1,
   "metadata": {},
   "outputs": [],
   "source": [
    "import configparser\n",
    "import tarfile\n",
    "import urllib.request\n",
    "import matplotlib.pyplot as plt\n",
    "import numpy as np\n",
    "from matplotlib.colors import LogNorm\n",
    "from matplotlib.patches import Circle"
   ]
  },
  {
   "cell_type": "markdown",
   "metadata": {},
   "source": [
    "And also the pipeline and required modules of PynPoint."
   ]
  },
  {
   "cell_type": "code",
   "execution_count": 2,
   "metadata": {},
   "outputs": [],
   "source": [
    "from pynpoint import Pypeline, FitsReadingModule, ParangReadingModule, \\\n",
    "                     StarExtractionModule, BadPixelSigmaFilterModule, \\\n",
    "                     StarAlignmentModule, FitCenterModule, ShiftImagesModule, \\\n",
    "                     PSFpreparationModule, PcaPsfSubtractionModule, \\\n",
    "                     FalsePositiveModule, SimplexMinimizationModule, \\\n",
    "                     FakePlanetModule, ContrastCurveModule, \\\n",
    "                     FitsWritingModule, TextWritingModule"
   ]
  },
  {
   "cell_type": "markdown",
   "metadata": {},
   "source": [
    "Next, we will download a tarball with the preprocessed images and the parallactic angles."
   ]
  },
  {
   "cell_type": "code",
   "execution_count": 3,
   "metadata": {},
   "outputs": [
    {
     "data": {
      "text/plain": [
       "('hd142527_zimpol_h-alpha.tgz', <http.client.HTTPMessage at 0x1454433d0>)"
      ]
     },
     "execution_count": 3,
     "metadata": {},
     "output_type": "execute_result"
    }
   ],
   "source": [
    "urllib.request.urlretrieve('https://home.strw.leidenuniv.nl/~stolker/pynpoint/hd142527_zimpol_h-alpha.tgz',\n",
    "                           'hd142527_zimpol_h-alpha.tgz')"
   ]
  },
  {
   "cell_type": "markdown",
   "metadata": {},
   "source": [
    "Will unpack the compressed archive file in a folder called *input*."
   ]
  },
  {
   "cell_type": "code",
   "execution_count": 4,
   "metadata": {},
   "outputs": [],
   "source": [
    "tar = tarfile.open('hd142527_zimpol_h-alpha.tgz')\n",
    "tar.extractall(path='input')"
   ]
  },
  {
   "cell_type": "markdown",
   "metadata": {},
   "source": [
    "## Creating the configuration file"
   ]
  },
  {
   "cell_type": "markdown",
   "metadata": {},
   "source": [
    "PynPoint requires a configuration file with the global settings and the FITS header keywords that have to be imported. The text file should be named `PynPoint_config.ini` (see [documentation](https://pynpoint.readthedocs.io/en/latest/configuration.html) for several instrument specific examples) and located in the working place of the pipeline.\n",
    "\n",
    "In this case, we don't need any of the header data but we set the pixel scale to 3.6 mas pixel$^{-1}$ with the `PIXSCALE` keyword. We also set the `MEMORY` keyword to `None` such that that all images of a dataset are loaded at once in the RAM when the data is processed by a certain pipeline module. The number of processes that is used by pipeline modules that support multiprocessing (see [overview of pipeline modules](https://pynpoint.readthedocs.io/en/latest/overview.html)) is set with the `CPU` keyword."
   ]
  },
  {
   "cell_type": "code",
   "execution_count": 5,
   "metadata": {},
   "outputs": [],
   "source": [
    "config = configparser.ConfigParser()\n",
    "config.add_section('header')\n",
    "config.add_section('settings')\n",
    "config['settings']['PIXSCALE'] = '0.0036'\n",
    "config['settings']['MEMORY'] = 'None'\n",
    "config['settings']['CPU'] = '1'\n",
    "\n",
    "with open('PynPoint_config.ini', 'w') as configfile:\n",
    "    config.write(configfile)"
   ]
  },
  {
   "cell_type": "markdown",
   "metadata": {},
   "source": [
    "## Initiating the Pypeline"
   ]
  },
  {
   "cell_type": "markdown",
   "metadata": {},
   "source": [
    "We can now initiate the `Pypeline` by setting the working, input, and output folders. The configuration file will be read and the HDF5 database is created in the working place since it does not yet exist."
   ]
  },
  {
   "cell_type": "code",
   "execution_count": 6,
   "metadata": {},
   "outputs": [
    {
     "name": "stdout",
     "output_type": "stream",
     "text": [
      "===============\n",
      "PynPoint v0.9.0\n",
      "===============\n",
      "\n",
      "Working place: ./\n",
      "Input place: input/\n",
      "Output place: ./\n",
      "\n",
      "Database: ./PynPoint_database.hdf5\n",
      "Configuration: ./PynPoint_config.ini\n",
      "\n",
      "Number of CPUs: 1\n",
      "Number of threads: not set\n"
     ]
    }
   ],
   "source": [
    "pipeline = Pypeline(working_place_in='./',\n",
    "                    input_place_in='input/',\n",
    "                    output_place_in='./')"
   ]
  },
  {
   "cell_type": "markdown",
   "metadata": {},
   "source": [
    "Some routines by libraries such as `numpy` and `scipy` use multithreading. The number of threads can be set beforehand from the command line with the `OMP_NUM_THREADS` environment variable (e.g. `export OMP_NUM_THREADS=4`). This is in particular important if a pipeline module also uses multiprocessing."
   ]
  },
  {
   "cell_type": "markdown",
   "metadata": {},
   "source": [
    "## Importing the images and parallactic angles"
   ]
  },
  {
   "cell_type": "markdown",
   "metadata": {},
   "source": [
    "We will now import the images from the FITS files into the PynPoint database. This is done by first adding an instance of the [FitsReadingModule](https://pynpoint.readthedocs.io/en/latest/pynpoint.readwrite.html#pynpoint.readwrite.fitsreading.FitsReadingModule) to the `Pypeline` with the `add_module` method and then running the module with the `run_module` method. The data is stored in the database with the name of the `image_tag` argument."
   ]
  },
  {
   "cell_type": "code",
   "execution_count": 7,
   "metadata": {},
   "outputs": [
    {
     "name": "stdout",
     "output_type": "stream",
     "text": [
      "\n",
      "-----------------\n",
      "FitsReadingModule\n",
      "-----------------\n",
      "\n",
      "Module name: read\n",
      "Reading FITS files... [DONE]                      \n",
      "Output ports: zimpol (70, 1024, 1024), fits_header/cal_OBS091_0235_cam2.fits (868,), fits_header/cal_OBS091_0237_cam2.fits (868,), fits_header/cal_OBS091_0239_cam2.fits (868,), fits_header/cal_OBS091_0241_cam2.fits (868,), fits_header/cal_OBS091_0243_cam2.fits (868,), fits_header/cal_OBS091_0245_cam2.fits (868,), fits_header/cal_OBS091_0247_cam2.fits (868,)\n"
     ]
    }
   ],
   "source": [
    "module = FitsReadingModule(name_in='read',\n",
    "                           input_dir=None,\n",
    "                           image_tag='zimpol',\n",
    "                           overwrite=True,\n",
    "                           check=False,\n",
    "                           filenames=None,\n",
    "                           ifs_data=False)\n",
    "\n",
    "pipeline.add_module(module)\n",
    "pipeline.run_module('read')"
   ]
  },
  {
   "cell_type": "markdown",
   "metadata": {},
   "source": [
    "Let's check the shape of the imported dataset. There are 70 images of 1024 by 1024 pixels."
   ]
  },
  {
   "cell_type": "code",
   "execution_count": 8,
   "metadata": {},
   "outputs": [
    {
     "data": {
      "text/plain": [
       "(70, 1024, 1024)"
      ]
     },
     "execution_count": 8,
     "metadata": {},
     "output_type": "execute_result"
    }
   ],
   "source": [
    "pipeline.get_shape('zimpol')"
   ]
  },
  {
   "cell_type": "markdown",
   "metadata": {},
   "source": [
    "We will also import the parallactic angles from a plain text file (a FITS file would also work) by using the [ParangReadingModule](https://pynpoint.readthedocs.io/en/latest/pynpoint.readwrite.html#pynpoint.readwrite.attr_reading.ParangReadingModule). The angles will be stored as the `PARANG` attribute to the dataset that was previously imported and has the database tag *zimpol*."
   ]
  },
  {
   "cell_type": "code",
   "execution_count": 9,
   "metadata": {},
   "outputs": [
    {
     "name": "stdout",
     "output_type": "stream",
     "text": [
      "\n",
      "-------------------\n",
      "ParangReadingModule\n",
      "-------------------\n",
      "\n",
      "Module name: parang\n",
      "Reading parallactic angles... [DONE]\n",
      "Number of angles: 70\n",
      "Rotation range: -14.31 - 34.36 deg\n",
      "Output port: zimpol (70, 1024, 1024)\n"
     ]
    }
   ],
   "source": [
    "module = ParangReadingModule(name_in='parang',\n",
    "                             data_tag='zimpol',\n",
    "                             file_name='parang.dat',\n",
    "                             input_dir=None,\n",
    "                             overwrite=True)\n",
    "\n",
    "pipeline.add_module(module)\n",
    "pipeline.run_module('parang')"
   ]
  },
  {
   "cell_type": "markdown",
   "metadata": {},
   "source": [
    "The attributes can be read from the database with the [get_attribute](https://pynpoint.readthedocs.io/en/latest/pynpoint.core.html?highlight=get_data#pynpoint.core.pypeline.Pypeline.get_attribute) method of the `Pypeline`. Let's have a look at the values of `PARANG`."
   ]
  },
  {
   "cell_type": "code",
   "execution_count": 10,
   "metadata": {},
   "outputs": [
    {
     "data": {
      "text/plain": [
       "array([-14.3082 , -13.9496 , -13.5902 , -13.23   , -12.8691 , -12.5074 ,\n",
       "       -12.145  , -11.782  , -11.4182 , -11.0538 ,  -6.43366,  -6.0622 ,\n",
       "        -5.69037,  -5.3182 ,  -4.9457 ,  -4.57291,  -4.19983,  -3.8265 ,\n",
       "        -3.45294,  -3.07917,   1.61837,   1.99275,   2.36701,   2.74112,\n",
       "         3.11507,   3.48882,   3.86237,   4.23567,   4.60872,   4.98149,\n",
       "         9.6373 ,  10.0041 ,  10.3703 ,  10.736  ,  11.101  ,  11.4653 ,\n",
       "        11.829  ,  12.192  ,  12.5543 ,  12.9158 ,  17.3717 ,  17.7218 ,\n",
       "        18.0711 ,  18.4193 ,  18.7666 ,  19.1129 ,  19.4581 ,  19.8024 ,\n",
       "        20.1456 ,  20.4878 ,  24.9167 ,  25.243  ,  25.568  ,  25.8919 ,\n",
       "        26.2145 ,  26.536  ,  26.8563 ,  27.1753 ,  27.4931 ,  27.8097 ,\n",
       "        31.7057 ,  32.0052 ,  32.3035 ,  32.6005 ,  32.8962 ,  33.1906 ,\n",
       "        33.4838 ,  33.7757 ,  34.0663 ,  34.3556 ])"
      ]
     },
     "execution_count": 10,
     "metadata": {},
     "output_type": "execute_result"
    }
   ],
   "source": [
    "pipeline.get_attribute('zimpol', 'PARANG', static=False)"
   ]
  },
  {
   "cell_type": "markdown",
   "metadata": {},
   "source": [
    "## Bad pixel correction"
   ]
  },
  {
   "cell_type": "markdown",
   "metadata": {},
   "source": [
    "The first processing module that we will use is the [BadPixelSigmaFilterModule](https://pynpoint.readthedocs.io/en/latest/pynpoint.processing.html#pynpoint.processing.badpixel.BadPixelSigmaFilterModule) to correct bad pixels with a sigma filter. We replace outliers that deviate by more than 3$\\sigma$ from their neighboring pixels and iterate three times. \n",
    "\n",
    "The input port of `image_in_tag` points to the dataset that was imported by the `FitsReadingModule` and the output port of `image_out_tag` stores the processed / cleaned dataset in the database."
   ]
  },
  {
   "cell_type": "code",
   "execution_count": 11,
   "metadata": {},
   "outputs": [
    {
     "name": "stdout",
     "output_type": "stream",
     "text": [
      "\n",
      "-------------------------\n",
      "BadPixelSigmaFilterModule\n",
      "-------------------------\n",
      "\n",
      "Module name: badpixel\n",
      "Input port: zimpol (70, 1024, 1024)\n",
      "Bad pixel sigma filter... [DONE]                      \n",
      "Output port: bad (70, 1024, 1024)\n"
     ]
    }
   ],
   "source": [
    "module = BadPixelSigmaFilterModule(name_in='badpixel',\n",
    "                                   image_in_tag='zimpol',\n",
    "                                   image_out_tag='bad',\n",
    "                                   map_out_tag=None,\n",
    "                                   box=9,\n",
    "                                   sigma=3.,\n",
    "                                   iterate=3)\n",
    "\n",
    "pipeline.add_module(module)\n",
    "pipeline.run_module('badpixel')"
   ]
  },
  {
   "cell_type": "markdown",
   "metadata": {},
   "source": [
    "## Image centering"
   ]
  },
  {
   "cell_type": "markdown",
   "metadata": {},
   "source": [
    "Next, we will crop the image around the brightest pixel at the position of the star with the [StarExtractionModule](https://pynpoint.readthedocs.io/en/latest/pynpoint.processing.html#pynpoint.processing.extract.StarExtractionModule)."
   ]
  },
  {
   "cell_type": "code",
   "execution_count": 12,
   "metadata": {},
   "outputs": [
    {
     "name": "stdout",
     "output_type": "stream",
     "text": [
      "\n",
      "--------------------\n",
      "StarExtractionModule\n",
      "--------------------\n",
      "\n",
      "Module name: extract\n",
      "Input port: bad (70, 1024, 1024)\n",
      "Extracting stellar position... [DONE]                      \n",
      "Output port: crop (70, 57, 57)\n"
     ]
    }
   ],
   "source": [
    "module = StarExtractionModule(name_in='extract',\n",
    "                              image_in_tag='bad',\n",
    "                              image_out_tag='crop',\n",
    "                              index_out_tag=None,\n",
    "                              image_size=0.2,\n",
    "                              fwhm_star=0.03,\n",
    "                              position=(476, 436, 0.1))\n",
    "\n",
    "pipeline.add_module(module)\n",
    "pipeline.run_module('extract')"
   ]
  },
  {
   "cell_type": "markdown",
   "metadata": {},
   "source": [
    "Let's have a look at the first image from the processed data that is now centered with pixel precision. The data van be read from the database by using the [get_data](https://pynpoint.readthedocs.io/en/latest/pynpoint.core.html?highlight=get_data#pynpoint.core.pypeline.Pypeline.get_data) method of the `Pypeline`."
   ]
  },
  {
   "cell_type": "code",
   "execution_count": 13,
   "metadata": {},
   "outputs": [
    {
     "data": {
      "text/plain": [
       "<matplotlib.image.AxesImage at 0x145d1c690>"
      ]
     },
     "execution_count": 13,
     "metadata": {},
     "output_type": "execute_result"
    },
    {
     "data": {
      "image/png": "[encoded data removed]",
      "text/plain": [
       "<Figure size 432x288 with 1 Axes>"
      ]
     },
     "metadata": {
      "needs_background": "light"
     },
     "output_type": "display_data"
    }
   ],
   "source": [
    "data = pipeline.get_data('crop')\n",
    "plt.imshow(data[0, ], origin='lower')"
   ]
  },
  {
   "cell_type": "markdown",
   "metadata": {},
   "source": [
    "After the approximate centering, we apply a relative alignment of the images with the [StarAlignmentModule](https://pynpoint.readthedocs.io/en/latest/pynpoint.processing.html#pynpoint.processing.centering.StarAlignmentModule) by cross-correlating each images with 10 randomly selected images from the dataset. Each image is then shifted to the average offset from the cross-correlation with the 10 images."
   ]
  },
  {
   "cell_type": "code",
   "execution_count": 14,
   "metadata": {},
   "outputs": [
    {
     "name": "stdout",
     "output_type": "stream",
     "text": [
      "\n",
      "-------------------\n",
      "StarAlignmentModule\n",
      "-------------------\n",
      "\n",
      "Module name: align\n",
      "Input port: crop (70, 57, 57)\n",
      "Aligning images... [DONE]                      \n",
      "Output port: aligned (70, 57, 57)\n"
     ]
    }
   ],
   "source": [
    "module = StarAlignmentModule(name_in='align',\n",
    "                             image_in_tag='crop',\n",
    "                             ref_image_in_tag=None,\n",
    "                             image_out_tag='aligned',\n",
    "                             interpolation='spline',\n",
    "                             accuracy=10,\n",
    "                             resize=None,\n",
    "                             num_references=10,\n",
    "                             subframe=0.1)\n",
    "\n",
    "pipeline.add_module(module)\n",
    "pipeline.run_module('align')"
   ]
  },
  {
   "cell_type": "markdown",
   "metadata": {},
   "source": [
    "As a third centering step, we use the [FitCenterModule](https://pynpoint.readthedocs.io/en/latest/pynpoint.processing.html#pynpoint.processing.centering.FitCenterModule) to fit the PSF of the mean image with a 2D Moffat function. The best-fit parameters are stored in the database at the argument name of `fit_out_tag`."
   ]
  },
  {
   "cell_type": "code",
   "execution_count": 15,
   "metadata": {},
   "outputs": [
    {
     "name": "stdout",
     "output_type": "stream",
     "text": [
      "\n",
      "---------------\n",
      "FitCenterModule\n",
      "---------------\n",
      "\n",
      "Module name: center\n",
      "Input port: aligned (70, 57, 57)\n",
      "Fitting the stellar PSF... [DONE]\n",
      "Output port: fit (70, 16)\n"
     ]
    }
   ],
   "source": [
    "module = FitCenterModule(name_in='center',\n",
    "                         image_in_tag='aligned',\n",
    "                         fit_out_tag='fit',\n",
    "                         mask_out_tag=None,\n",
    "                         method='mean',\n",
    "                         radius=0.1,\n",
    "                         sign='positive',\n",
    "                         model='moffat',\n",
    "                         filter_size=None,\n",
    "                         guess=(0., 0., 10., 10., 10000., 0., 0., 1.))\n",
    "\n",
    "pipeline.add_module(module)\n",
    "pipeline.run_module('center')"
   ]
  },
  {
   "cell_type": "markdown",
   "metadata": {},
   "source": [
    "The processed images from the `StarAlignmentModule` and the best-fit parameters from the `FitCenterModule` are now used as input for [ShiftImagesModule](https://pynpoint.readthedocs.io/en/latest/pynpoint.processing.html#pynpoint.processing.centering.ShiftImagesModule). This module shifts all images by the (constant) offset such that the peak of the Moffat function is located in the center of the image."
   ]
  },
  {
   "cell_type": "code",
   "execution_count": 16,
   "metadata": {},
   "outputs": [
    {
     "name": "stdout",
     "output_type": "stream",
     "text": [
      "\n",
      "-----------------\n",
      "ShiftImagesModule\n",
      "-----------------\n",
      "\n",
      "Module name: shift\n",
      "Input ports: aligned (70, 57, 57), fit (70, 16)\n",
      "Shifting the images... [DONE]                      \n",
      "Output port: centered (70, 57, 57)\n"
     ]
    }
   ],
   "source": [
    "module = ShiftImagesModule(name_in='shift',\n",
    "                           image_in_tag='aligned',\n",
    "                           image_out_tag='centered',\n",
    "                           shift_xy='fit',\n",
    "                           interpolation='spline')\n",
    "\n",
    "pipeline.add_module(module)\n",
    "pipeline.run_module('shift')"
   ]
  },
  {
   "cell_type": "markdown",
   "metadata": {},
   "source": [
    "Let's have a look at the central part of the first image. The brightest pixel of the PSF is indeed in the center of the image as expected."
   ]
  },
  {
   "cell_type": "code",
   "execution_count": 17,
   "metadata": {},
   "outputs": [
    {
     "data": {
      "text/plain": [
       "(17.0, 40.0)"
      ]
     },
     "execution_count": 17,
     "metadata": {},
     "output_type": "execute_result"
    },
    {
     "data": {
      "image/png": "[encoded data removed]",
      "text/plain": [
       "<Figure size 432x288 with 1 Axes>"
      ]
     },
     "metadata": {
      "needs_background": "light"
     },
     "output_type": "display_data"
    }
   ],
   "source": [
    "data = pipeline.get_data('centered')\n",
    "plt.imshow(data[0, ], origin='lower')\n",
    "plt.xlim(17, 40)\n",
    "plt.ylim(17, 40)"
   ]
  },
  {
   "cell_type": "markdown",
   "metadata": {},
   "source": [
    "## Masking the images"
   ]
  },
  {
   "cell_type": "markdown",
   "metadata": {},
   "source": [
    "Before running the PSF subtraction, we use the [PSFpreparationModule](https://pynpoint.readthedocs.io/en/latest/pynpoint.processing.html#pynpoint.processing.psfpreparation.PSFpreparationModule) to mask the central part of the PSF and we also create a outer mask with a diameter equal to the field of view of the image. The latter is achieved by simply setting the argument of `edge_size` to a value that is larger than the field of view."
   ]
  },
  {
   "cell_type": "code",
   "execution_count": 18,
   "metadata": {},
   "outputs": [
    {
     "name": "stdout",
     "output_type": "stream",
     "text": [
      "\n",
      "--------------------\n",
      "PSFpreparationModule\n",
      "--------------------\n",
      "\n",
      "Module name: prep1\n",
      "Input port: centered (70, 57, 57)\n",
      "Preparing images for PSF subtraction... [DONE]                      \n",
      "Output port: prep (70, 57, 57)\n"
     ]
    }
   ],
   "source": [
    "module = PSFpreparationModule(name_in='prep1',\n",
    "                              image_in_tag='centered',\n",
    "                              image_out_tag='prep',\n",
    "                              mask_out_tag=None,\n",
    "                              norm=False,\n",
    "                              cent_size=0.02,\n",
    "                              edge_size=0.2)\n",
    "\n",
    "pipeline.add_module(module)\n",
    "pipeline.run_module('prep1')"
   ]
  },
  {
   "cell_type": "markdown",
   "metadata": {},
   "source": [
    "Let's have a look at the first image and show it on a logarithmic color scale."
   ]
  },
  {
   "cell_type": "code",
   "execution_count": 19,
   "metadata": {},
   "outputs": [
    {
     "data": {
      "text/plain": [
       "<matplotlib.image.AxesImage at 0x145e778d0>"
      ]
     },
     "execution_count": 19,
     "metadata": {},
     "output_type": "execute_result"
    },
    {
     "data": {
      "image/png": "[encoded data removed]",
      "text/plain": [
       "<Figure size 432x288 with 1 Axes>"
      ]
     },
     "metadata": {
      "needs_background": "light"
     },
     "output_type": "display_data"
    }
   ],
   "source": [
    "data = pipeline.get_data('prep')\n",
    "max_flux = np.amax(data[0, ])\n",
    "plt.imshow(data[0, ], origin='lower', norm=LogNorm(vmin=0.01*max_flux, vmax=max_flux))"
   ]
  },
  {
   "cell_type": "markdown",
   "metadata": {},
   "source": [
    "Later on, we require a PSF template for both the relative calibration and the estimation of detection limits. Therefore, we create another masked dataset from the centered images but this time we only mask pixels beyond 70 mas and do not use a central mask."
   ]
  },
  {
   "cell_type": "code",
   "execution_count": 20,
   "metadata": {},
   "outputs": [
    {
     "name": "stdout",
     "output_type": "stream",
     "text": [
      "\n",
      "--------------------\n",
      "PSFpreparationModule\n",
      "--------------------\n",
      "\n",
      "Module name: prep2\n",
      "Input port: centered (70, 57, 57)\n",
      "Preparing images for PSF subtraction... [DONE]                      \n",
      "Output port: psf (70, 57, 57)\n"
     ]
    }
   ],
   "source": [
    "module = PSFpreparationModule(name_in='prep2',\n",
    "                              image_in_tag='centered',\n",
    "                              image_out_tag='psf',\n",
    "                              mask_out_tag=None,\n",
    "                              norm=False,\n",
    "                              cent_size=None,\n",
    "                              edge_size=0.07)\n",
    "\n",
    "pipeline.add_module(module)\n",
    "pipeline.run_module('prep2')"
   ]
  },
  {
   "cell_type": "markdown",
   "metadata": {},
   "source": [
    "Let's have a look at the first image from this stack of PSF templates."
   ]
  },
  {
   "cell_type": "code",
   "execution_count": 21,
   "metadata": {},
   "outputs": [
    {
     "data": {
      "text/plain": [
       "<matplotlib.image.AxesImage at 0x145ee56d0>"
      ]
     },
     "execution_count": 21,
     "metadata": {},
     "output_type": "execute_result"
    },
    {
     "data": {
      "image/png": "[encoded data removed]",
      "text/plain": [
       "<Figure size 432x288 with 1 Axes>"
      ]
     },
     "metadata": {
      "needs_background": "light"
     },
     "output_type": "display_data"
    }
   ],
   "source": [
    "data = pipeline.get_data('psf')\n",
    "max_flux = np.amax(data[0, ])\n",
    "plt.imshow(data[0, ], origin='lower', norm=LogNorm(vmin=0.01*max_flux, vmax=max_flux))"
   ]
  },
  {
   "cell_type": "markdown",
   "metadata": {},
   "source": [
    "## PSF subtraction with PCA"
   ]
  },
  {
   "cell_type": "markdown",
   "metadata": {},
   "source": [
    "After masking the images, we will now run the PSF subtraction with an implementation of full-frame PCA. We use the [PcaPsfSubtractionModule](https://pynpoint.readthedocs.io/en/latest/pynpoint.processing.html#pynpoint.processing.psfsubtraction.PcaPsfSubtractionModule) and set the argument of `pca_numbers` to a range from 1 to 30 principal components. This means that the mean- and median-collapsed residuals that are stored with the output ports to `res_mean_tag` and `res_median_tag` will contain 30 images, so with an increasing number of subtracted principal components. We will also store the PCA basis (i.e. the principal components) and apply an extra rotation of -133 deg such that north will be aligned with the positive *y* axis."
   ]
  },
  {
   "cell_type": "code",
   "execution_count": 22,
   "metadata": {},
   "outputs": [
    {
     "name": "stdout",
     "output_type": "stream",
     "text": [
      "\n",
      "-----------------------\n",
      "PcaPsfSubtractionModule\n",
      "-----------------------\n",
      "\n",
      "Module name: pca\n",
      "Input port: prep (70, 57, 57)\n",
      "Input parameters:\n",
      "   - Post-processing type: ADI\n",
      "   - Number of principal components: range(1, 31)\n",
      "   - Subtract mean: True\n",
      "   - Extra rotation (deg): -133.0\n",
      "Constructing PSF model... [DONE]\n",
      "Output ports: pca_mean (30, 57, 57), pca_median (30, 57, 57), pca_basis (30, 57, 57)\n"
     ]
    }
   ],
   "source": [
    "module = PcaPsfSubtractionModule(name_in='pca',\n",
    "                                 images_in_tag='prep',\n",
    "                                 reference_in_tag='prep',\n",
    "                                 res_mean_tag='pca_mean',\n",
    "                                 res_median_tag='pca_median',\n",
    "                                 basis_out_tag='pca_basis',\n",
    "                                 pca_numbers=range(1, 31),\n",
    "                                 extra_rot=-133.,\n",
    "                                 subtract_mean=True,\n",
    "                                 processing_type='ADI')\n",
    "\n",
    "pipeline.add_module(module)\n",
    "pipeline.run_module('pca')"
   ]
  },
  {
   "cell_type": "markdown",
   "metadata": {},
   "source": [
    "Let's have a look and the median-collapsed residuals after subtracting 15 principal components. The H$\\alpha$ emission from the accreting M dwarf companion HD 142527 B is clearly detected east / left of the central star."
   ]
  },
  {
   "cell_type": "code",
   "execution_count": 23,
   "metadata": {},
   "outputs": [
    {
     "data": {
      "text/plain": [
       "<matplotlib.image.AxesImage at 0x145f55550>"
      ]
     },
     "execution_count": 23,
     "metadata": {},
     "output_type": "execute_result"
    },
    {
     "data": {
      "image/png": "[encoded data removed]",
      "text/plain": [
       "<Figure size 432x288 with 1 Axes>"
      ]
     },
     "metadata": {
      "needs_background": "light"
     },
     "output_type": "display_data"
    }
   ],
   "source": [
    "data = pipeline.get_data('pca_median')\n",
    "plt.imshow(data[14, ], origin='lower')"
   ]
  },
  {
   "cell_type": "markdown",
   "metadata": {},
   "source": [
    "Let's also have a look at the PCA basis that was stored at the *pca_basis* tag. Here we plot the second principal component."
   ]
  },
  {
   "cell_type": "code",
   "execution_count": 24,
   "metadata": {},
   "outputs": [
    {
     "data": {
      "text/plain": [
       "<matplotlib.image.AxesImage at 0x145fba810>"
      ]
     },
     "execution_count": 24,
     "metadata": {},
     "output_type": "execute_result"
    },
    {
     "data": {
      "image/png": "[encoded data removed]",
      "text/plain": [
       "<Figure size 432x288 with 1 Axes>"
      ]
     },
     "metadata": {
      "needs_background": "light"
     },
     "output_type": "display_data"
    }
   ],
   "source": [
    "data = pipeline.get_data('pca_basis')\n",
    "plt.imshow(data[1, ], origin='lower')"
   ]
  },
  {
   "cell_type": "markdown",
   "metadata": {},
   "source": [
    "## Signal-to-noise and false positive fraction"
   ]
  },
  {
   "cell_type": "markdown",
   "metadata": {},
   "source": [
    "Now that we have the residuals of the PSF subtraction, we can calculate the signal-to-noise ratio (S/N) and false positive fraction (FPF) of the detected signal as function of number of principal components that have been subtracted.\n",
    "\n",
    "To do so, we will first check at which pixel coordinates the aperture should be placed such that it encompasses most of the companion flux while excluding most of the (negative) self-subtraction regions. We will read the median-collapsed residuals with the `get_data` method."
   ]
  },
  {
   "cell_type": "code",
   "execution_count": 25,
   "metadata": {},
   "outputs": [],
   "source": [
    "data = pipeline.get_data('pca_median')"
   ]
  },
  {
   "cell_type": "markdown",
   "metadata": {},
   "source": [
    "And we use the functionalities of `matplotlib` to overlay an aperture on the residuals after subtracting 15 principal components."
   ]
  },
  {
   "cell_type": "code",
   "execution_count": 26,
   "metadata": {},
   "outputs": [
    {
     "data": {
      "text/plain": [
       "<matplotlib.patches.Circle at 0x145ffd050>"
      ]
     },
     "execution_count": 26,
     "metadata": {},
     "output_type": "execute_result"
    },
    {
     "data": {
      "image/png": "[encoded data removed]",
      "text/plain": [
       "<Figure size 432x288 with 1 Axes>"
      ]
     },
     "metadata": {
      "needs_background": "light"
     },
     "output_type": "display_data"
    }
   ],
   "source": [
    "fig, ax = plt.subplots()\n",
    "ax.imshow(data[14, ], origin='lower')\n",
    "aperture = Circle((11, 26), radius=5, fill=False, ls=':', lw=2., color='white')\n",
    "ax.add_artist(aperture)"
   ]
  },
  {
   "cell_type": "markdown",
   "metadata": {},
   "source": [
    "Next, we use the [FalsePositiveModule](https://pynpoint.readthedocs.io/en/latest/pynpoint.processing.html#pynpoint.processing.fluxposition.FalsePositiveModule) to calculate both the S/N and FPF. We set position of the `aperture` to the coordinates that we tested and the radius of the aperture to 5 pixels. For the reference apertures, we will ignore the neighboring apertures to the companion (i.e. `ignore=True`) such that the self-subtraction regions will not bias the noise estimate."
   ]
  },
  {
   "cell_type": "code",
   "execution_count": 27,
   "metadata": {},
   "outputs": [
    {
     "name": "stdout",
     "output_type": "stream",
     "text": [
      "\n",
      "-------------------\n",
      "FalsePositiveModule\n",
      "-------------------\n",
      "\n",
      "Module name: snr\n",
      "Input port: pca_median (30, 57, 57)\n",
      "Input parameters:\n",
      "   - Aperture position = (11.0, 26.0)\n",
      "   - Aperture radius (pixels) = 5.00\n",
      "   - Optimize aperture position = False\n",
      "   - Ignore neighboring apertures = True\n",
      "   - Minimization tolerance = 0.01\n",
      "Calculating the S/N and FPF...\n",
      "Image 001/30 -> (x, y) = (11.00, 26.00), S/N = 5.54, FPF = 7.28e-04\n",
      "Image 002/30 -> (x, y) = (11.00, 26.00), S/N = 4.85, FPF = 1.43e-03\n",
      "Image 003/30 -> (x, y) = (11.00, 26.00), S/N = 5.75, FPF = 6.01e-04\n",
      "Image 004/30 -> (x, y) = (11.00, 26.00), S/N = 7.43, FPF = 1.53e-04\n",
      "Image 005/30 -> (x, y) = (11.00, 26.00), S/N = 10.16, FPF = 2.64e-05\n",
      "Image 006/30 -> (x, y) = (11.00, 26.00), S/N = 8.92, FPF = 5.54e-05\n",
      "Image 007/30 -> (x, y) = (11.00, 26.00), S/N = 8.35, FPF = 8.02e-05\n",
      "Image 008/30 -> (x, y) = (11.00, 26.00), S/N = 5.59, FPF = 6.99e-04\n",
      "Image 009/30 -> (x, y) = (11.00, 26.00), S/N = 7.81, FPF = 1.16e-04\n",
      "Image 010/30 -> (x, y) = (11.00, 26.00), S/N = 6.46, FPF = 3.25e-04\n",
      "Image 011/30 -> (x, y) = (11.00, 26.00), S/N = 7.34, FPF = 1.63e-04\n",
      "Image 012/30 -> (x, y) = (11.00, 26.00), S/N = 7.17, FPF = 1.86e-04\n",
      "Image 013/30 -> (x, y) = (11.00, 26.00), S/N = 6.97, FPF = 2.16e-04\n",
      "Image 014/30 -> (x, y) = (11.00, 26.00), S/N = 6.32, FPF = 3.66e-04\n",
      "Image 015/30 -> (x, y) = (11.00, 26.00), S/N = 8.25, FPF = 8.55e-05\n",
      "Image 016/30 -> (x, y) = (11.00, 26.00), S/N = 9.85, FPF = 3.16e-05\n",
      "Image 017/30 -> (x, y) = (11.00, 26.00), S/N = 9.98, FPF = 2.94e-05\n",
      "Image 018/30 -> (x, y) = (11.00, 26.00), S/N = 8.71, FPF = 6.31e-05\n",
      "Image 019/30 -> (x, y) = (11.00, 26.00), S/N = 11.85, FPF = 1.09e-05\n",
      "Image 020/30 -> (x, y) = (11.00, 26.00), S/N = 9.01, FPF = 5.23e-05\n",
      "Image 021/30 -> (x, y) = (11.00, 26.00), S/N = 6.85, FPF = 2.37e-04\n",
      "Image 022/30 -> (x, y) = (11.00, 26.00), S/N = 6.41, FPF = 3.39e-04\n",
      "Image 023/30 -> (x, y) = (11.00, 26.00), S/N = 7.57, FPF = 1.38e-04\n",
      "Image 024/30 -> (x, y) = (11.00, 26.00), S/N = 6.88, FPF = 2.33e-04\n",
      "Image 025/30 -> (x, y) = (11.00, 26.00), S/N = 5.45, FPF = 7.91e-04\n",
      "Image 026/30 -> (x, y) = (11.00, 26.00), S/N = 5.32, FPF = 8.99e-04\n",
      "Image 027/30 -> (x, y) = (11.00, 26.00), S/N = 4.38, FPF = 2.33e-03\n",
      "Image 028/30 -> (x, y) = (11.00, 26.00), S/N = 3.06, FPF = 1.11e-02\n",
      "Image 029/30 -> (x, y) = (11.00, 26.00), S/N = 4.45, FPF = 2.18e-03\n",
      "Image 030/30 -> (x, y) = (11.00, 26.00), S/N = 4.89, FPF = 1.37e-03\n",
      "Output port: snr (30, 6)\n"
     ]
    }
   ],
   "source": [
    "module = FalsePositiveModule(name_in='snr',\n",
    "                             image_in_tag='pca_median',\n",
    "                             snr_out_tag='snr',\n",
    "                             position=(11., 26.),\n",
    "                             aperture=5.*0.0036,\n",
    "                             ignore=True,\n",
    "                             optimize=False)\n",
    "\n",
    "pipeline.add_module(module)\n",
    "pipeline.run_module('snr')"
   ]
  },
  {
   "cell_type": "markdown",
   "metadata": {},
   "source": [
    "The results have been stored in the dataset with the tag *snr*. Let's plot the S/N as function of principal components that have been extracted. As expected, for a large number of components the S/N goes towards zero due to increased self-subtraction."
   ]
  },
  {
   "cell_type": "code",
   "execution_count": 28,
   "metadata": {},
   "outputs": [
    {
     "data": {
      "text/plain": [
       "Text(0, 0.5, 'Signal-to-noise ratio')"
      ]
     },
     "execution_count": 28,
     "metadata": {},
     "output_type": "execute_result"
    },
    {
     "data": {
      "image/png": "[encoded data removed]",
      "text/plain": [
       "<Figure size 432x288 with 1 Axes>"
      ]
     },
     "metadata": {
      "needs_background": "light"
     },
     "output_type": "display_data"
    }
   ],
   "source": [
    "data = pipeline.get_data('snr')\n",
    "plt.plot(range(1, 31), data[:, 4], 'o')\n",
    "plt.xlabel('Principal components', fontsize=14)\n",
    "plt.ylabel('Signal-to-noise ratio', fontsize=14)"
   ]
  },
  {
   "cell_type": "markdown",
   "metadata": {},
   "source": [
    "## Relative photometric and astrometric calibration"
   ]
  },
  {
   "cell_type": "markdown",
   "metadata": {},
   "source": [
    "With the next analysis, we will measure the relative brightness and position of the companion. We will use the [SimplexMinimizationModule](https://pynpoint.readthedocs.io/en/latest/pynpoint.processing.html#pynpoint.processing.fluxposition.SimplexMinimizationModule) to minimize the flux within a large aperture at the position of the companion while iterative injecting negative copies of the PSF. This procedure will be repeated for principal components in the range of 1 to 10. We need to specify two database tags as input, namely the stack of centered images and the PSF templates (i.e. the stack of masked images) that will be injected to remove the companion flux. Apart from an approximate position of the companion, the downhill simplex method of the minimization algorithm also requires an estimate (e.g. within ${\\sim} 1$ magnitude from the actual value) of the flux contrast."
   ]
  },
  {
   "cell_type": "code",
   "execution_count": 29,
   "metadata": {},
   "outputs": [
    {
     "name": "stdout",
     "output_type": "stream",
     "text": [
      "\n",
      "-------------------------\n",
      "SimplexMinimizationModule\n",
      "-------------------------\n",
      "\n",
      "Module name: simplex\n",
      "Input ports: centered (70, 57, 57), psf (70, 57, 57)\n",
      "Input parameters:\n",
      "   - Number of principal components = range(1, 11)\n",
      "   - Figure of merit = gaussian\n",
      "   - Residuals type = median\n",
      "   - Absolute tolerance (pixels/mag) = 0.01\n",
      "   - Maximum offset = None\n",
      "   - Guessed position (x, y) = (11.00, 26.00)\n",
      "   - Aperture position (x, y) = (11, 26)\n",
      "   - Aperture radius (pixels) = 10\n",
      "   - Inner mask radius (pixels) = 5\n",
      "   - Outer mask radius (pixels) = 55\n",
      "Image center (y, x) = (28.0, 28.0)\n",
      "Simplex minimization... 1 PC - chi^2 = 3.64e+02 [DONE]\n",
      "Best-fit parameters:\n",
      "   - Position (x, y) = (12.91, 26.00)\n",
      "   - Separation (mas) = 54.81\n",
      "   - Position angle (deg) = 97.56\n",
      "   - Contrast (mag) = 5.69\n",
      "Simplex minimization... 2 PC - chi^2 = 1.87e+02 [DONE]\n",
      "Best-fit parameters:\n",
      "   - Position (x, y) = (13.49, 26.75)\n",
      "   - Separation (mas) = 52.42\n",
      "   - Position angle (deg) = 94.92\n",
      "   - Contrast (mag) = 5.45\n",
      "Simplex minimization... 3 PC - chi^2 = 2.88e+02 [DONE]\n",
      "Best-fit parameters:\n",
      "   - Position (x, y) = (13.31, 26.66)\n",
      "   - Separation (mas) = 53.12\n",
      "   - Position angle (deg) = 95.23\n",
      "   - Contrast (mag) = 5.49\n",
      "Simplex minimization... 4 PC - chi^2 = 4.44e+02 [DONE]\n",
      "Best-fit parameters:\n",
      "   - Position (x, y) = (13.13, 26.27)\n",
      "   - Separation (mas) = 53.89\n",
      "   - Position angle (deg) = 96.62\n",
      "   - Contrast (mag) = 5.55\n",
      "Simplex minimization... 5 PC - chi^2 = 3.00e+02 [DONE]\n",
      "Best-fit parameters:\n",
      "   - Position (x, y) = (12.76, 26.43)\n",
      "   - Separation (mas) = 55.16\n",
      "   - Position angle (deg) = 95.88\n",
      "   - Contrast (mag) = 5.63\n",
      "Simplex minimization... 6 PC - chi^2 = 2.78e+02 [DONE]\n",
      "Best-fit parameters:\n",
      "   - Position (x, y) = (12.60, 26.44)\n",
      "   - Separation (mas) = 55.71\n",
      "   - Position angle (deg) = 95.80\n",
      "   - Contrast (mag) = 5.62\n",
      "Simplex minimization... 7 PC - chi^2 = 3.61e+02 [DONE]\n",
      "Best-fit parameters:\n",
      "   - Position (x, y) = (12.02, 26.26)\n",
      "   - Separation (mas) = 57.87\n",
      "   - Position angle (deg) = 96.22\n",
      "   - Contrast (mag) = 5.82\n",
      "Simplex minimization... 8 PC - chi^2 = 4.30e+02 [DONE]\n",
      "Best-fit parameters:\n",
      "   - Position (x, y) = (12.21, 26.25)\n",
      "   - Separation (mas) = 57.17\n",
      "   - Position angle (deg) = 96.32\n",
      "   - Contrast (mag) = 5.73\n",
      "Simplex minimization... 9 PC - chi^2 = 2.96e+02 [DONE]\n",
      "Best-fit parameters:\n",
      "   - Position (x, y) = (11.33, 26.18)\n",
      "   - Separation (mas) = 60.37\n",
      "   - Position angle (deg) = 96.22\n",
      "   - Contrast (mag) = 5.98\n",
      "Simplex minimization... 10 PC - chi^2 = 2.97e+02 [DONE]\n",
      "Best-fit parameters:\n",
      "   - Position (x, y) = (11.59, 26.26)\n",
      "   - Separation (mas) = 59.42\n",
      "   - Position angle (deg) = 96.07\n",
      "   - Contrast (mag) = 5.82\n",
      "Output ports: simplex001 (89, 57, 57), fluxpos001 (89, 6), simplex002 (70, 57, 57), fluxpos002 (70, 6), simplex003 (75, 57, 57), fluxpos003 (75, 6), simplex004 (73, 57, 57), fluxpos004 (73, 6), simplex005 (63, 57, 57), fluxpos005 (63, 6), simplex006 (79, 57, 57), fluxpos006 (79, 6), simplex007 (71, 57, 57), fluxpos007 (71, 6), simplex008 (66, 57, 57), fluxpos008 (66, 6), simplex009 (60, 57, 57), fluxpos009 (60, 6), simplex010 (78, 57, 57), fluxpos010 (78, 6)\n"
     ]
    }
   ],
   "source": [
    "module = SimplexMinimizationModule(name_in='simplex',\n",
    "                                   image_in_tag='centered',\n",
    "                                   psf_in_tag='psf',\n",
    "                                   res_out_tag='simplex',\n",
    "                                   flux_position_tag='fluxpos',\n",
    "                                   position=(11, 26),\n",
    "                                   magnitude=6.,\n",
    "                                   psf_scaling=-1.,\n",
    "                                   merit='gaussian',\n",
    "                                   aperture=10.*0.0036,\n",
    "                                   sigma=0.,\n",
    "                                   tolerance=0.01,\n",
    "                                   pca_number=range(1, 11),\n",
    "                                   cent_size=0.02,\n",
    "                                   edge_size=0.2,\n",
    "                                   extra_rot=-133.,\n",
    "                                   residuals='median',\n",
    "                                   reference_in_tag=None,\n",
    "                                   offset=None)\n",
    "\n",
    "pipeline.add_module(module)\n",
    "pipeline.run_module('simplex')"
   ]
  },
  {
   "cell_type": "markdown",
   "metadata": {},
   "source": [
    "When running the `SimplexMinimizationModule`, we see the $\\chi^2$ value changing until the tolerance threshold has been reached. The best-fit position and contrast is then printed and also stored in the database at the `flux_position_tag`. If the argument of `pca_number` is a list or range (instead of a single value), then the names of the `flux_position_tag` and `res_out_tag` are appended with the number of principal components in 3 digits (e.g. 003 for 3 principal components).\n",
    "\n",
    "The `res_out_tag` contains the PSF subtraction residuals for each iteration so the last image in the dataset shows the best-fit result. Let's have a look at the residuals after subtracting 10 principal components with the best-fit negative PSF injected (i.e. which has fully cancelled the companion flux)."
   ]
  },
  {
   "cell_type": "code",
   "execution_count": 30,
   "metadata": {},
   "outputs": [
    {
     "data": {
      "text/plain": [
       "<matplotlib.image.AxesImage at 0x14615dbd0>"
      ]
     },
     "execution_count": 30,
     "metadata": {},
     "output_type": "execute_result"
    },
    {
     "data": {
      "image/png": "[encoded data removed]",
      "text/plain": [
       "<Figure size 432x288 with 1 Axes>"
      ]
     },
     "metadata": {
      "needs_background": "light"
     },
     "output_type": "display_data"
    }
   ],
   "source": [
    "data = pipeline.get_data('simplex010')\n",
    "plt.imshow(data[-1, ], origin='lower')"
   ]
  },
  {
   "cell_type": "markdown",
   "metadata": {},
   "source": [
    "Let's also plot the measured separation, position angle, and contrast as function of principal components that have been subtracted."
   ]
  },
  {
   "cell_type": "code",
   "execution_count": 31,
   "metadata": {},
   "outputs": [
    {
     "data": {
      "text/plain": [
       "Text(0, 0.5, 'Contrast (mag)')"
      ]
     },
     "execution_count": 31,
     "metadata": {},
     "output_type": "execute_result"
    },
    {
     "data": {
      "image/png": "[encoded data removed]",
      "text/plain": [
       "<Figure size 576x576 with 3 Axes>"
      ]
     },
     "metadata": {
      "needs_background": "light"
     },
     "output_type": "display_data"
    }
   ],
   "source": [
    "fig = plt.figure(figsize=(8, 8))\n",
    "ax1 = fig.add_subplot(3, 1, 1)\n",
    "ax2 = fig.add_subplot(3, 1, 2)\n",
    "ax3 = fig.add_subplot(3, 1, 3)\n",
    "\n",
    "for i in range(1, 11):\n",
    "    data = pipeline.get_data(f'fluxpos{i:03d}')\n",
    "    ax1.scatter(i, data[-1, 2], color='black')\n",
    "    ax2.scatter(i, data[-1, 3], color='black')\n",
    "    ax3.scatter(i, data[-1, 4], color='black')\n",
    "\n",
    "ax3.set_xlabel('Principal components', fontsize=14)\n",
    "ax1.set_ylabel('Separation (arcsec)', fontsize=14)\n",
    "ax2.set_ylabel('Position angle (deg)', fontsize=14)\n",
    "ax3.set_ylabel('Contrast (mag)', fontsize=14)"
   ]
  },
  {
   "cell_type": "markdown",
   "metadata": {},
   "source": [
    "## Detection limits"
   ]
  },
  {
   "cell_type": "markdown",
   "metadata": {},
   "source": [
    "As a final analysis, we will estimate detection limits from the data. To do so, we will first use the [FakePlanetModule](https://pynpoint.readthedocs.io/en/latest/pynpoint.processing.html#pynpoint.processing.fluxposition.FakePlanetModule) to remove the flux of the companion from the data since it would otherwise bias the result. We use the PSF template that was stored with the tag *psf* and we adopt the separation and position angle that was determined with the `SimplexMinimizationModule`. We need to apply a correction of -133 degrees which was used previously for `extra_rot`."
   ]
  },
  {
   "cell_type": "code",
   "execution_count": 32,
   "metadata": {},
   "outputs": [
    {
     "name": "stdout",
     "output_type": "stream",
     "text": [
      "\n",
      "----------------\n",
      "FakePlanetModule\n",
      "----------------\n",
      "\n",
      "Module name: fake\n",
      "Input ports: centered (70, 57, 57), psf (70, 57, 57)\n",
      "Input parameters:\n",
      "   - Magnitude = 6.10\n",
      "   - PSF scaling = -1.0\n",
      "   - Separation (arcsec) = 0.06\n",
      "   - Position angle (deg) = 0.06\n",
      "Injecting artificial planets... [DONE]                      \n",
      "Output port: removed (70, 57, 57)\n"
     ]
    }
   ],
   "source": [
    "module = FakePlanetModule(name_in='fake',\n",
    "                          image_in_tag='centered',\n",
    "                          psf_in_tag='psf',\n",
    "                          image_out_tag='removed',\n",
    "                          position=(0.061, 97.3-133.),\n",
    "                          magnitude=6.1,\n",
    "                          psf_scaling=-1.,\n",
    "                          interpolation='spline')\n",
    "\n",
    "pipeline.add_module(module)\n",
    "pipeline.run_module('fake')"
   ]
  },
  {
   "cell_type": "markdown",
   "metadata": {},
   "source": [
    "Now that the data only contains the flux of the central star, we use the [ContrastCurveModule](https://pynpoint.readthedocs.io/en/latest/pynpoint.processing.html#pynpoint.processing.limits.ContrastCurveModule) to calculate the detection limits. We will calculate the brightness limits by setting the false positive fraction (FPF) to $2.87 \\times 10^{-7}$, which corresponds to $5\\sigma$ in the limit of Gaussian noise. At small angular separations, the detection limits are affected by small sample statistics (see [Mawet et al. 2014](https://ui.adsabs.harvard.edu/abs/2014ApJ...792...97M/abstract)) so this FPF would only correspond to a $5\\sigma$ detection at large separation from the star. In this example, we will subtract 10 principal components and use the median-collapsed residuals."
   ]
  },
  {
   "cell_type": "code",
   "execution_count": 33,
   "metadata": {},
   "outputs": [
    {
     "name": "stdout",
     "output_type": "stream",
     "text": [
      "\n",
      "-------------------\n",
      "ContrastCurveModule\n",
      "-------------------\n",
      "\n",
      "Module name: limits\n",
      "Input ports: removed (70, 57, 57), psf (70, 57, 57)\n",
      "                                                      \n",
      "Calculating detection limits... [DONE]\n",
      "Output port: limits (4, 4)\n"
     ]
    }
   ],
   "source": [
    "module = ContrastCurveModule(name_in='limits',\n",
    "                             image_in_tag='removed',\n",
    "                             psf_in_tag='psf',\n",
    "                             contrast_out_tag='limits',\n",
    "                             separation=(0.05, 5., 0.01),\n",
    "                             angle=(0., 360., 60.),\n",
    "                             threshold=('fpf', 2.87e-7),\n",
    "                             psf_scaling=1.,\n",
    "                             aperture=0.02,\n",
    "                             pca_number=10,\n",
    "                             cent_size=0.02,\n",
    "                             edge_size=2.,\n",
    "                             extra_rot=-133.,\n",
    "                             residuals='median',\n",
    "                             snr_inject=100.)\n",
    "\n",
    "pipeline.add_module(module)\n",
    "pipeline.run_module('limits')"
   ]
  },
  {
   "cell_type": "markdown",
   "metadata": {},
   "source": [
    "## Exporting datasets to FITS and plain text formats"
   ]
  },
  {
   "cell_type": "markdown",
   "metadata": {},
   "source": [
    "Now that we have finished the data processing and analysis, we will export some of the results from the HDF5 database to other data formats. Since astronomical images are commonly viewed with tools such as [DS9](https://sites.google.com/cfa.harvard.edu/saoimageds9), we will use the [FitsWritingModule](https://pynpoint.readthedocs.io/en/latest/pynpoint.readwrite.html?highlight=fitswr#pynpoint.readwrite.fitswriting.FitsWritingModule) to write the median-collapsed residuals of the PSF subtraction to a FITS file. The database tag is specified as argument of `data_tag` and we will store the FITS file in the default output place of the `Pypeline`. The FITS file contains a 3D dataset of which the first dimension corresponds to an increasing number of subtracted principal components."
   ]
  },
  {
   "cell_type": "code",
   "execution_count": 34,
   "metadata": {},
   "outputs": [
    {
     "name": "stdout",
     "output_type": "stream",
     "text": [
      "\n",
      "-----------------\n",
      "FitsWritingModule\n",
      "-----------------\n",
      "\n",
      "Module name: write1\n",
      "Input port: pca_median (30, 57, 57)\n",
      "Writing FITS file... [DONE]\n"
     ]
    }
   ],
   "source": [
    "module = FitsWritingModule(name_in='write1',\n",
    "                           data_tag='pca_median',\n",
    "                           file_name='pca_median.fits',\n",
    "                           output_dir=None,\n",
    "                           data_range=None,\n",
    "                           overwrite=True,\n",
    "                           subset_size=None)\n",
    "\n",
    "pipeline.add_module(module)\n",
    "pipeline.run_module('write1')"
   ]
  },
  {
   "cell_type": "markdown",
   "metadata": {},
   "source": [
    "Similarly, we can export 1D and 2D datasets to a plain text file with the [TextWritingModule](https://pynpoint.readthedocs.io/en/latest/pynpoint.readwrite.html#pynpoint.readwrite.textwriting.TextWritingModule). Let's export the detection limits that were estimated with the `ContrastCurveModule`. We specify again the database tag and also add a header as first line in the text file."
   ]
  },
  {
   "cell_type": "code",
   "execution_count": 35,
   "metadata": {},
   "outputs": [
    {
     "name": "stdout",
     "output_type": "stream",
     "text": [
      "\n",
      "-----------------\n",
      "TextWritingModule\n",
      "-----------------\n",
      "\n",
      "Module name: write2\n",
      "Input port: limits (4, 4)\n",
      "Writing text file... [DONE]\n"
     ]
    }
   ],
   "source": [
    "module = TextWritingModule(name_in='write2',\n",
    "                           data_tag='limits',\n",
    "                           file_name='limits.dat',\n",
    "                           output_dir=None,\n",
    "                           header='Separation (arcsec) - Contrast (mag) - Variance (mag) - FPF')\n",
    "\n",
    "pipeline.add_module(module)\n",
    "pipeline.run_module('write2')"
   ]
  }
 ],
 "metadata": {
  "kernelspec": {
   "display_name": "Python 3",
   "language": "python",
   "name": "python3"
  },
  "language_info": {
   "codemirror_mode": {
    "name": "ipython",
    "version": 3
   },
   "file_extension": ".py",
   "mimetype": "text/x-python",
   "name": "python",
   "nbconvert_exporter": "python",
   "pygments_lexer": "ipython3",
   "version": "3.7.9"
  }
 },
 "nbformat": 4,
 "nbformat_minor": 4
}
